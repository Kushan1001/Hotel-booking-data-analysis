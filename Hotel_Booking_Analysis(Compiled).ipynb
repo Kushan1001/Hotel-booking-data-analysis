{
  "nbformat": 4,
  "nbformat_minor": 0,
  "metadata": {
    "colab": {
      "name": "Hotel Booking Analysis(Compiled).ipynb",
      "provenance": [],
      "collapsed_sections": [],
      "include_colab_link": true
    },
    "kernelspec": {
      "name": "python3",
      "display_name": "Python 3"
    },
    "language_info": {
      "name": "python"
    }
  },
  "cells": [
    {
      "cell_type": "markdown",
      "metadata": {
        "id": "view-in-github",
        "colab_type": "text"
      },
      "source": [
        "<a href=\"https://colab.research.google.com/github/Kushan1001/Hotel-booking-data-analysis/blob/main/Hotel_Booking_Analysis(Compiled).ipynb\" target=\"_parent\"><img src=\"https://colab.research.google.com/assets/colab-badge.svg\" alt=\"Open In Colab\"/></a>"
      ]
    },
    {
      "cell_type": "markdown",
      "metadata": {
        "id": "2yKhdziwg5YH"
      },
      "source": [
        "#Set up"
      ]
    },
    {
      "cell_type": "code",
      "metadata": {
        "id": "OZK05_Fgiblq"
      },
      "source": [
        "# Importing the libs\n",
        "\n",
        "import numpy as np\n",
        "import pandas as pd\n",
        "%matplotlib inline\n",
        "import matplotlib.pyplot as plt\n",
        "import seaborn as sns\n",
        "from matplotlib import rcParams\n",
        "rcParams['figure.figsize'] = 10,6\n",
        "\n",
        "# set some display options:\n",
        "\n",
        "pd.set_option(\"display.max_columns\", 36)\n",
        "plt.style.use('ggplot')\n"
      ],
      "execution_count": null,
      "outputs": []
    },
    {
      "cell_type": "code",
      "metadata": {
        "id": "xxId6neXl60B"
      },
      "source": [
        ""
      ],
      "execution_count": null,
      "outputs": []
    },
    {
      "cell_type": "code",
      "metadata": {
        "id": "MGD6hq5Ll6xD"
      },
      "source": [
        ""
      ],
      "execution_count": null,
      "outputs": []
    },
    {
      "cell_type": "markdown",
      "metadata": {
        "id": "fGdEJtUBdrQc"
      },
      "source": [
        "### **What are the top countries from which the customers visit**"
      ]
    },
    {
      "cell_type": "code",
      "metadata": {
        "id": "f_7teO5yg33b"
      },
      "source": [
        "#Bar gra"
      ],
      "execution_count": null,
      "outputs": []
    },
    {
      "cell_type": "markdown",
      "metadata": {
        "id": "pwwIV19ZXywL"
      },
      "source": [
        "### **What is the average lead time of different customer groups**"
      ]
    },
    {
      "cell_type": "markdown",
      "metadata": {
        "id": "t36NaCMhYY3W"
      },
      "source": [
        "### **What are the most busiest months?**"
      ]
    },
    {
      "cell_type": "markdown",
      "metadata": {
        "id": "KKcpkOvnY8EA"
      },
      "source": [
        "### **Which market segment do customer prefer while booking hotel**"
      ]
    },
    {
      "cell_type": "markdown",
      "metadata": {
        "id": "BkBeMZR2ZaoM"
      },
      "source": [
        "### **What are the prices of different room types over the months?**"
      ]
    },
    {
      "cell_type": "markdown",
      "metadata": {
        "id": "SmSo2II3ZhUs"
      },
      "source": [
        "### **What are the months with highest cancellations**"
      ]
    },
    {
      "cell_type": "markdown",
      "metadata": {
        "id": "rBpYOEVPZ1TH"
      },
      "source": [
        "### **What is the duration of stay of different customer types**"
      ]
    },
    {
      "cell_type": "markdown",
      "metadata": {
        "id": "DmvgP_vjaYnX"
      },
      "source": [
        "### **What is the most popular meal plan**"
      ]
    },
    {
      "cell_type": "code",
      "metadata": {
        "id": "LLBgLbbzjWIH"
      },
      "source": [
        "df = hotel_df[['meal','customer_type']]\n",
        "df = df.groupby('meal')['customer_type'].value_counts().unstack()\n",
        "df.drop(index=['Undefined'],inplace = True)"
      ],
      "execution_count": null,
      "outputs": []
    },
    {
      "cell_type": "code",
      "metadata": {
        "id": "NC9VkLp5jWFa"
      },
      "source": [
        "group_df = df.Group"
      ],
      "execution_count": null,
      "outputs": []
    },
    {
      "cell_type": "code",
      "metadata": {
        "id": "iMM44clpjWCA"
      },
      "source": [
        "plt.figure(figsize=(15,5))\n",
        "group_df.plot(kind='bar')\n",
        "plt.xlabel('Meal Type',size=20)\n",
        "plt.ylabel('Count', size = 20)\n",
        "plt.title(\"Preference Of Meal Type By Group Customer Type\",size = 24)\n",
        "plt.show()"
      ],
      "execution_count": null,
      "outputs": []
    },
    {
      "cell_type": "code",
      "metadata": {
        "id": "8Bt5MDmkjV-O"
      },
      "source": [
        ""
      ],
      "execution_count": null,
      "outputs": []
    },
    {
      "cell_type": "code",
      "metadata": {
        "id": "vbu5S6MRjV6p"
      },
      "source": [
        ""
      ],
      "execution_count": null,
      "outputs": []
    },
    {
      "cell_type": "markdown",
      "metadata": {
        "id": "eGnrTpRmagGJ"
      },
      "source": [
        "### **Which type of deposit is preferred by customers**"
      ]
    },
    {
      "cell_type": "markdown",
      "metadata": {
        "id": "glsBkID0aFPa"
      },
      "source": [
        "### **Which month is preferred by different customer groups for their stay**"
      ]
    },
    {
      "cell_type": "markdown",
      "metadata": {
        "id": "sWJwMDjFa1ry"
      },
      "source": [
        "### **What are the months with the highest cancellation rates**"
      ]
    },
    {
      "cell_type": "markdown",
      "metadata": {
        "id": "la0ZzszWa_Y2"
      },
      "source": [
        "### **Which customer groups has the most special requests**"
      ]
    },
    {
      "cell_type": "markdown",
      "metadata": {
        "id": "YzGw5ETxbbYf"
      },
      "source": [
        "### **Do adults prefer to travel with children or without them**"
      ]
    },
    {
      "cell_type": "markdown",
      "metadata": {
        "id": "MyPpwFfubkYN"
      },
      "source": [
        "### **And if they do they less special requests or more**"
      ]
    },
    {
      "cell_type": "markdown",
      "metadata": {
        "id": "Tge_GTW1bub6"
      },
      "source": [
        "### **What is lead time after which customers generally cancel their booking**"
      ]
    },
    {
      "cell_type": "markdown",
      "metadata": {
        "id": "_qZ6gpvocQ5X"
      },
      "source": [
        "### **What is the relationship between different types of deposit and cancellations**"
      ]
    },
    {
      "cell_type": "markdown",
      "metadata": {
        "id": "FLEf8BficeHz"
      },
      "source": [
        "### **What is ADR over the months. And in which months is the ADR at the peak and at the bottom**"
      ]
    },
    {
      "cell_type": "markdown",
      "metadata": {
        "id": "TDoHxMnadAv5"
      },
      "source": [
        "### **Which room are generating the most revenue and which customer groups like to stay in them**"
      ]
    }
  ]
}